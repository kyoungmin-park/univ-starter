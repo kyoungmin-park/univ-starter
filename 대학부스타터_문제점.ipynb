{
  "nbformat": 4,
  "nbformat_minor": 0,
  "metadata": {
    "colab": {
      "provenance": [],
      "authorship_tag": "ABX9TyNQuh48SOCyroJ6JYzlg4Yh",
      "include_colab_link": true
    },
    "kernelspec": {
      "name": "python3",
      "display_name": "Python 3"
    },
    "language_info": {
      "name": "python"
    }
  },
  "cells": [
    {
      "cell_type": "markdown",
      "metadata": {
        "id": "view-in-github",
        "colab_type": "text"
      },
      "source": [
        "<a href=\"https://colab.research.google.com/github/kyoungmin-park/univ-starter/blob/main/%EB%8C%80%ED%95%99%EB%B6%80%EC%8A%A4%ED%83%80%ED%84%B0_%EB%AC%B8%EC%A0%9C%EC%A0%90.ipynb\" target=\"_parent\"><img src=\"https://colab.research.google.com/assets/colab-badge.svg\" alt=\"Open In Colab\"/></a>"
      ]
    },
    {
      "cell_type": "markdown",
      "source": [
        "#문제 해결 중 발생한 문제점\n",
        "\n",
        "\n",
        "1.   데이터셋이 너무 커서 이를 활용하여 모델을 학습하기 위해선 cuda-gpu사용 하여야 하는데 이를 위해선 Nvidia의 gpu가 요구됨.\n",
        "\n",
        "  >해결하기 위해서 colab의 자체 제공 gpu를 사용하려 하였으나, colab에서는 runtime의 제한이 있기 때문에 활용하는데 어려움 발생.\n",
        "\n",
        "2.   스타터1.1에서 결과를 출력하면 정렬을 하여도 항목위 뒤섞이는 문제 발생\n",
        "\n",
        "  >grouped = grouped.sort_values(['gender'], ascending=False).reset_index(drop=True)\n",
        "\n",
        "  >이 코드에서 .reset_index(drop=True) 이부분을 통해 기존의 인덱스 부여번호를 삭제하고 정렬된 결과에 따라 새로운 인덱스를 부여하는 방식으로 내림차순으로 정렬시킴.\n",
        "\n",
        "3.    스타터2.1에서 모델을 학습하는 과정중 jpg파일들을 resnet-18로 학습시키려면 모두 공통된 모양으로 transform과정 필요.(RGB형식으로)\n",
        "\n",
        "4.    코드에 문제가 없음에도 실행시\n",
        ">오류발생 : Input/output error: '/content/drive/Othercomputers/내 노트북/010.연도별 패션 선호도 파악 및 추천 데이터/01-1.정식개방데이터/Training/02.라벨링데이터'\n",
        ">>코랩에서는 드라이브의 데이터셋 파일이 만개이상이 넘어가면 이러한 문제점 발생. 해결방법은 딱히없고, 여러번 runtime을 실행하면 동작할때가 있다.\n"
      ],
      "metadata": {
        "id": "DSVkbIypfdrI"
      }
    }
  ]
}