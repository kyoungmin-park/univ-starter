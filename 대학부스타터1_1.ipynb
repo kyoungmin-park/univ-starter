{
  "nbformat": 4,
  "nbformat_minor": 0,
  "metadata": {
    "colab": {
      "provenance": [],
      "authorship_tag": "ABX9TyOUUkfB1qBr4btzap1QLFog",
      "include_colab_link": true
    },
    "kernelspec": {
      "name": "python3",
      "display_name": "Python 3"
    },
    "language_info": {
      "name": "python"
    }
  },
  "cells": [
    {
      "cell_type": "markdown",
      "metadata": {
        "id": "view-in-github",
        "colab_type": "text"
      },
      "source": [
        "<a href=\"https://colab.research.google.com/github/kyoungmin-park/univ-starter/blob/main/%EB%8C%80%ED%95%99%EB%B6%80%EC%8A%A4%ED%83%80%ED%84%B01_1.ipynb\" target=\"_parent\"><img src=\"https://colab.research.google.com/assets/colab-badge.svg\" alt=\"Open In Colab\"/></a>"
      ]
    },
    {
      "cell_type": "code",
      "execution_count": null,
      "metadata": {
        "colab": {
          "base_uri": "https://localhost:8080/"
        },
        "id": "KcSbbj5JcEvM",
        "outputId": "83e5e7f4-a08b-4849-d493-3ce12e1b7a25"
      },
      "outputs": [
        {
          "output_type": "stream",
          "name": "stdout",
          "text": [
            "Drive already mounted at /content/drive; to attempt to forcibly remount, call drive.mount(\"/content/drive\", force_remount=True).\n",
            "   gender           style  image_id\n",
            "0       W      genderless      2488\n",
            "1       W          grunge       835\n",
            "2       W           space      1040\n",
            "3       W            punk      2209\n",
            "4       W       powersuit      4278\n",
            "5       W          popart      1122\n",
            "6       W        oriental      1973\n",
            "7       W        normcore      7357\n",
            "8       W         minimal      3505\n",
            "9       W        military       821\n",
            "10      W          lounge      3166\n",
            "11      W        lingerie      1199\n",
            "12      W          kitsch      2630\n",
            "13      W          hippie      2647\n",
            "14      W          hiphop      1156\n",
            "15      W  sportivecasual      3418\n",
            "16      W        feminine      4460\n",
            "17      W         ecology      1510\n",
            "18      W           disco      1308\n",
            "19      W         classic      2543\n",
            "20      W        cityglam      2332\n",
            "21      W   bodyconscious      1160\n",
            "22      W      athleisure       694\n",
            "23      M          hiphop      2596\n",
            "24      M  sportivecasual      4869\n",
            "25      M        normcore     10570\n",
            "26      M            mods      2876\n",
            "27      M     metrosexual      2692\n",
            "28      M             ivy      1904\n",
            "29      M          hippie      1651\n",
            "30      M            bold      3322\n"
          ]
        }
      ],
      "source": [
        "from google.colab import drive\n",
        "import os\n",
        "import pandas as pd\n",
        "\n",
        "# 1. 구글 드라이브 마운트\n",
        "drive.mount('/content/drive')\n",
        "\n",
        "# 2. 데이터 경로 설정 (드라이브 내 위치로 수정)\n",
        "data_dir = '/content/drive/Othercomputers/내 노트북/010.연도별 패션 선호도 파악 및 추천 데이터/01-1.정식개방데이터/Training/01.원천데이터'\n",
        "\n",
        "# 3. 파일 정보 저장 리스트\n",
        "records = []\n",
        "\n",
        "# 4. .jpg 파일만 처리\n",
        "for filename in os.listdir(data_dir):\n",
        "    if filename.endswith('.jpg'):\n",
        "        parts = filename.split('_')\n",
        "        if len(parts) == 5:\n",
        "            img_id = parts[1]\n",
        "            era = parts[2]\n",
        "            style = parts[3]\n",
        "            gender = parts[4].replace('.jpg', '')\n",
        "            records.append((img_id, era, style, gender))\n",
        "\n",
        "# 5. 데이터프레임으로 정리\n",
        "df = pd.DataFrame(records, columns=['image_id', 'era', 'style', 'gender'])\n",
        "\n",
        "# 6. 성별+스타일 조합별 이미지 수 세기\n",
        "grouped = df.groupby(['gender', 'style'], as_index=False)['image_id'].nunique()\n",
        "\n",
        "# 7. 성별 정렬: 여성 먼저, 남성 나중\n",
        "grouped = grouped.sort_values(['gender'], ascending=False).reset_index(drop=True)\n",
        "\n",
        "# 8. 결과 출력\n",
        "print(grouped)"
      ]
    }
  ]
}