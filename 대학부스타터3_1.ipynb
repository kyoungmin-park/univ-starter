{
  "nbformat": 4,
  "nbformat_minor": 0,
  "metadata": {
    "colab": {
      "provenance": [],
      "authorship_tag": "ABX9TyO+TiRvs7zQ0yCbdorq3Uib",
      "include_colab_link": true
    },
    "kernelspec": {
      "name": "python3",
      "display_name": "Python 3"
    },
    "language_info": {
      "name": "python"
    }
  },
  "cells": [
    {
      "cell_type": "markdown",
      "metadata": {
        "id": "view-in-github",
        "colab_type": "text"
      },
      "source": [
        "<a href=\"https://colab.research.google.com/github/kyoungmin-park/univ-starter/blob/main/%EB%8C%80%ED%95%99%EB%B6%80%EC%8A%A4%ED%83%80%ED%84%B03_1.ipynb\" target=\"_parent\"><img src=\"https://colab.research.google.com/assets/colab-badge.svg\" alt=\"Open In Colab\"/></a>"
      ]
    },
    {
      "cell_type": "markdown",
      "source": [
        "# 협업 필터링(Collaborative Filtering)이란?\n",
        "사용자들의 과거 선택 정보를 기반으로 비슷한 사용자나 아이템을 활용하여 새로운 선호를 예측하는 추천 방식입니다.\n",
        "\n",
        "\n",
        "1. User-Based Collaborative Filtering\n",
        "\n",
        "  개념 : 나와 **비슷한 선호도를 가진 다른 사용자들(user)**을 찾아, 그들이 선호한 스타일을 나에게 추천하는 방식\n",
        "\n",
        "  ✅ 장점\n",
        "\n",
        "  직관적이며, 사용자 수가 적을 때 잘 작동합니다.\n",
        "\n",
        "  새로운 스타일을 고를 때 사용자 특성 기반으로 맞춤 추천 가능\n",
        "\n",
        "  ✅ 단점\n",
        "\n",
        "  새로운 사용자는 정보 부족으로 예측 불가 (콜드 스타트 문제)\n",
        "\n",
        "  사용자 수가 많아질수록 계산량 급증 (유사도 계산 부담)\n",
        "\n",
        "\n",
        "  \n",
        "2. Item-Based Collaborative Filtering\n",
        "\n",
        "  개념 : 특정 사용자가 선호한 스타일들과 **유사한 스타일들(item)**을 찾아 추천하는 방\n",
        "\n",
        "  ✅ 장점\n",
        "\n",
        "  사용자 수가 많아도 추천 속도가 빠름 (item 간 유사도는 고정 가능)\n",
        "\n",
        "  새로운 사용자도 어느 정도 추천 가능 (기존 item 기반이므로)\n",
        "\n",
        "  ✅ 단점\n",
        "  \n",
        "  **스타일(아이템)**에 대한 충분한 사용자 피드백이 있어야 유사도 계산이 의미 있음\n",
        "\n",
        "  사용자의 개성 반영이 어렵고, 대중적 패턴에 더 치중될 수 있음\n",
        "\n",
        "\n"
      ],
      "metadata": {
        "id": "NOVP3mSCi4_B"
      }
    },
    {
      "cell_type": "code",
      "execution_count": null,
      "metadata": {
        "id": "M9Bm9cN1iuun"
      },
      "outputs": [],
      "source": []
    }
  ]
}