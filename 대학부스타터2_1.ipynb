{
  "nbformat": 4,
  "nbformat_minor": 0,
  "metadata": {
    "colab": {
      "provenance": [],
      "authorship_tag": "ABX9TyN7ew5gNRIs62xPn+aSam2v",
      "include_colab_link": true
    },
    "kernelspec": {
      "name": "python3",
      "display_name": "Python 3"
    },
    "language_info": {
      "name": "python"
    }
  },
  "cells": [
    {
      "cell_type": "markdown",
      "metadata": {
        "id": "view-in-github",
        "colab_type": "text"
      },
      "source": [
        "<a href=\"https://colab.research.google.com/github/kyoungmin-park/univ-starter/blob/main/%EB%8C%80%ED%95%99%EB%B6%80%EC%8A%A4%ED%83%80%ED%84%B02_1.ipynb\" target=\"_parent\"><img src=\"https://colab.research.google.com/assets/colab-badge.svg\" alt=\"Open In Colab\"/></a>"
      ]
    },
    {
      "cell_type": "code",
      "execution_count": null,
      "metadata": {
        "colab": {
          "base_uri": "https://localhost:8080/",
          "height": 243
        },
        "id": "DQO98ExDfqfH",
        "outputId": "c12c9680-30e9-415d-a060-041baee9f542"
      },
      "outputs": [
        {
          "output_type": "stream",
          "name": "stdout",
          "text": [
            "Drive already mounted at /content/drive; to attempt to forcibly remount, call drive.mount(\"/content/drive\", force_remount=True).\n"
          ]
        },
        {
          "output_type": "error",
          "ename": "OSError",
          "evalue": "[Errno 5] Input/output error: '/content/drive/Othercomputers/내 노트북/010.연도별 패션 선호도 파악 및 추천 데이터/01-1.정식개방데이터/Training/02.라벨링데이터'",
          "traceback": [
            "\u001b[0;31m---------------------------------------------------------------------------\u001b[0m",
            "\u001b[0;31mOSError\u001b[0m                                   Traceback (most recent call last)",
            "\u001b[0;32m<ipython-input-8-6f10a61ea8d2>\u001b[0m in \u001b[0;36m<cell line: 0>\u001b[0;34m()\u001b[0m\n\u001b[1;32m     13\u001b[0m \u001b[0;34m\u001b[0m\u001b[0m\n\u001b[1;32m     14\u001b[0m \u001b[0;31m# 폴더 내 모든 파일 탐색\u001b[0m\u001b[0;34m\u001b[0m\u001b[0;34m\u001b[0m\u001b[0m\n\u001b[0;32m---> 15\u001b[0;31m \u001b[0;32mfor\u001b[0m \u001b[0mfilename\u001b[0m \u001b[0;32min\u001b[0m \u001b[0mos\u001b[0m\u001b[0;34m.\u001b[0m\u001b[0mlistdir\u001b[0m\u001b[0;34m(\u001b[0m\u001b[0mlabel_dir\u001b[0m\u001b[0;34m)\u001b[0m\u001b[0;34m:\u001b[0m\u001b[0;34m\u001b[0m\u001b[0;34m\u001b[0m\u001b[0m\n\u001b[0m\u001b[1;32m     16\u001b[0m     \u001b[0;32mif\u001b[0m \u001b[0mfilename\u001b[0m\u001b[0;34m.\u001b[0m\u001b[0mendswith\u001b[0m\u001b[0;34m(\u001b[0m\u001b[0;34m'.json'\u001b[0m\u001b[0;34m)\u001b[0m\u001b[0;34m:\u001b[0m\u001b[0;34m\u001b[0m\u001b[0;34m\u001b[0m\u001b[0m\n\u001b[1;32m     17\u001b[0m         \u001b[0;31m# 예: W_0001_1990s_hiphop_man_01.json\u001b[0m\u001b[0;34m\u001b[0m\u001b[0;34m\u001b[0m\u001b[0m\n",
            "\u001b[0;31mOSError\u001b[0m: [Errno 5] Input/output error: '/content/drive/Othercomputers/내 노트북/010.연도별 패션 선호도 파악 및 추천 데이터/01-1.정식개방데이터/Training/02.라벨링데이터'"
          ]
        }
      ],
      "source": [
        "import os\n",
        "import pandas as pd\n",
        "from google.colab import drive\n",
        "\n",
        "#구글 드라이브 마운트\n",
        "drive.mount('/content/drive')\n",
        "\n",
        "# JSON 라벨링 데이터 경로\n",
        "label_dir = '/content/drive/Othercomputers/내 노트북/010.연도별 패션 선호도 파악 및 추천 데이터/01-1.정식개방데이터/Training/02.라벨링데이터'\n",
        "\n",
        "# 결과 저장 리스트\n",
        "records = []\n",
        "\n",
        "# 폴더 내 모든 파일 탐색\n",
        "for filename in os.listdir(label_dir):\n",
        "    if filename.endswith('.json'):\n",
        "        # 예: W_0001_1990s_hiphop_man_01.json\n",
        "        parts = filename.replace('.json', '').split('_')\n",
        "\n",
        "        # 유효한 형식인지 확인 (6부분이어야 함)\n",
        "        if len(parts) == 6:\n",
        "            _, image_id, era, style, gender, survey_id = parts\n",
        "            records.append((survey_id, gender, style))\n",
        "\n",
        "# 데이터프레임 생성\n",
        "df = pd.DataFrame(records, columns=['survey_id', 'gender', 'style'])\n",
        "\n",
        "# 성별 + 스타일 기준으로 설문 ID 수 세기\n",
        "grouped = df.groupby(['gender', 'style'], as_index=False)['survey_id'].nunique()\n",
        "grouped.rename(columns={'survey_id': 'count'}, inplace=True)\n",
        "\n",
        "# 성별 기준 정렬: 남성 먼저, 여성 나중\n",
        "grouped = grouped.sort_values('gender', ascending=False)\n",
        "\n",
        "# 결과 출력\n",
        "print(grouped)\n"
      ]
    }
  ]
}