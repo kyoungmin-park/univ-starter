{
  "nbformat": 4,
  "nbformat_minor": 0,
  "metadata": {
    "colab": {
      "provenance": [],
      "gpuType": "T4",
      "authorship_tag": "ABX9TyMrNXA0Gdd98SHbUnMjkwCr",
      "include_colab_link": true
    },
    "kernelspec": {
      "name": "python3",
      "display_name": "Python 3"
    },
    "language_info": {
      "name": "python"
    },
    "accelerator": "GPU"
  },
  "cells": [
    {
      "cell_type": "markdown",
      "metadata": {
        "id": "view-in-github",
        "colab_type": "text"
      },
      "source": [
        "<a href=\"https://colab.research.google.com/github/kyoungmin-park/univ-starter/blob/main/%EB%8C%80%ED%95%99%EB%B6%80%EC%8A%A4%ED%83%80%ED%84%B02_2.ipynb\" target=\"_parent\"><img src=\"https://colab.research.google.com/assets/colab-badge.svg\" alt=\"Open In Colab\"/></a>"
      ]
    },
    {
      "cell_type": "code",
      "execution_count": null,
      "metadata": {
        "id": "i0zJNU2ehLmh"
      },
      "outputs": [],
      "source": [
        "import os\n",
        "import json\n",
        "import pandas as pd\n",
        "from collections import defaultdict\n",
        "\n",
        "# 라벨링 데이터 경로 설정\n",
        "train_label_dir = '/content/drive/Othercomputers/내 노트북/010.연도별 패션 선호도 파악 및 추천 데이터/01-1.정식개방데이터/Training/02.라벨링데이터'\n",
        "val_label_dir = '/content/drive/Othercomputers/내 노트북/010.연도별 패션 선호도 파악 및 추천 데이터/01-1.정식개방데이터/Validation/02.라벨링데이터'\n",
        "\n",
        "def parse_labels(label_dir):\n",
        "    \"\"\"주어진 폴더 내 JSON 파일을 읽어 respondent_id별 선호/비선호 스타일 개수를 반환\"\"\"\n",
        "    pref_count = defaultdict(int)\n",
        "    nonpref_count = defaultdict(int)\n",
        "\n",
        "    for filename in os.listdir(label_dir):\n",
        "        if filename.endswith('.json'):\n",
        "            parts = filename.replace('.json', '').split('_')\n",
        "            if len(parts) == 6:\n",
        "                json_path = os.path.join(label_dir, filename)\n",
        "                try:\n",
        "                    with open(json_path, 'r', encoding='utf-8') as f:\n",
        "                        data = json.load(f)\n",
        "                        rid = data['user']['R_id']\n",
        "                        q5 = data['item']['survey'].get('Q5', [])\n",
        "                        q6 = data['item']['survey'].get('Q6', [])\n",
        "\n",
        "                        if isinstance(q5, list):\n",
        "                            pref_count[rid] += len(q5)\n",
        "                        if isinstance(q6, list):\n",
        "                            nonpref_count[rid] += len(q6)\n",
        "                except Exception:\n",
        "                    continue\n",
        "    return pref_count, nonpref_count\n",
        "\n",
        "# 1. 먼저 training 데이터로부터 top 100명 추출\n",
        "train_pref, _ = parse_labels(train_label_dir)\n",
        "top_100_ids = sorted(train_pref.keys())[:100]  # 알파벳순 상위 100명 기준\n",
        "\n",
        "# 2. training/validation 데이터 모두 처리\n",
        "train_pref, train_nonpref = parse_labels(train_label_dir)\n",
        "val_pref, val_nonpref = parse_labels(val_label_dir)\n",
        "\n",
        "# 3. 표 구성\n",
        "data = {\n",
        "    'train_preference': [train_pref[rid] for rid in top_100_ids],\n",
        "    'train_non_preference': [train_nonpref[rid] for rid in top_100_ids],\n",
        "    'val_preference': [val_pref[rid] for rid in top_100_ids],\n",
        "    'val_non_preference': [val_nonpref[rid] for rid in top_100_ids],\n",
        "}\n",
        "\n",
        "# 4. 데이터프레임으로 변환 (행-열 전치)\n",
        "df = pd.DataFrame(data, index=top_100_ids).T  # transpose 해서 행이 조건, 열이 ID\n",
        "print(df)\n"
      ]
    }
  ]
}